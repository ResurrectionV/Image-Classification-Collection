{
 "cells": [
  {
   "cell_type": "code",
   "execution_count": 1,
   "metadata": {},
   "outputs": [],
   "source": [
    "from __future__ import print_function\n",
    "from __future__ import division\n",
    "\n",
    "import math\n",
    "import torch\n",
    "import torch.nn as nn\n",
    "import torch.nn.functional as F\n",
    "import torch.optim as optim\n",
    "\n",
    "from torch.utils.data import random_split, DataLoader\n",
    "from torchvision import transforms\n",
    "from torchvision.datasets import CIFAR10\n",
    "\n",
    "import cv2\n",
    "import numpy as np\n",
    "import requests\n",
    "from io import BytesIO\n",
    "from PIL import Image\n",
    "\n",
    "import matplotlib.pyplot as plt\n",
    "\n",
    "%matplotlib inline\n",
    "plt.rcParams['figure.figsize'] = (10.0, 8.0)\n",
    "plt.rcParams['image.interpolation'] = 'nearest'\n",
    "plt.rcParams['image.cmap'] = 'gray'"
   ]
  },
  {
   "cell_type": "code",
   "execution_count": 2,
   "metadata": {},
   "outputs": [],
   "source": [
    "assert torch.cuda.is_available(), 'GPU unavailable'"
   ]
  },
  {
   "cell_type": "code",
   "execution_count": 3,
   "metadata": {},
   "outputs": [],
   "source": [
    "def get_data_loaders():\n",
    "  loader_kwargs = {\n",
    "    'batch_size': 100,\n",
    "    'shuffle': True,\n",
    "    'num_workers': 4,\n",
    "    'pin_memory': True,\n",
    "    'drop_last': True,\n",
    "  }\n",
    "  \n",
    "  transform = transforms.Compose([\n",
    "    transforms.ToTensor(),\n",
    "    transforms.Normalize([0.4914, 0.4822, 0.4465], [0.2470, 0.2435, 0.2616]),\n",
    "  ])\n",
    "  \n",
    "  CIFAR10_train = CIFAR10(root='.', train=True, transform=transform, download=True)\n",
    "  CIFAR10_test = CIFAR10(root='.', train=False, transform=transform, download=True)\n",
    "  \n",
    "  train_set, val_set = random_split(CIFAR10_train, [40000, 10000],\n",
    "                                    generator=torch.Generator().manual_seed(0))\n",
    "  \n",
    "  train_loader = DataLoader(train_set, **loader_kwargs)\n",
    "  val_loader = DataLoader(val_set, **loader_kwargs)\n",
    "  test_loader = DataLoader(CIFAR10_test, **loader_kwargs)\n",
    "  \n",
    "  return train_loader, val_loader, test_loader"
   ]
  },
  {
   "cell_type": "markdown",
   "metadata": {},
   "source": [
    "**Resnet34 Model**"
   ]
  },
  {
   "cell_type": "code",
   "execution_count": 4,
   "metadata": {},
   "outputs": [],
   "source": [
    "#In this Part, resnet_block is a basic resnet block, we choose resnet, because we believe deeper layer may potentially maintain more features of the image and cause less overfitting than we thought.\n",
    "# RELU, ELU, and GELU are tested before final decision. The ELU function works much better than the other two.\n",
    "# p=0.2 is used in dropout layer because we have tested that p=0.1 gives the best result.\n",
    "\n",
    "class resnet_block(nn.Module):\n",
    "  def __init__(self, in_channels, out_channels, stride=1, downsample=None):\n",
    "    super(resnet_block, self).__init__()\n",
    "    self.conv1 = nn.Conv2d(in_channels, out_channels, kernel_size=3, stride=stride, padding=1, bias=False)\n",
    "    self.bn1 = nn.BatchNorm2d(out_channels)\n",
    "    self.act = nn.ELU(inplace=True)\n",
    "    self.conv2 = nn.Conv2d(out_channels, out_channels, kernel_size=3, stride=1, padding=1, bias=False)\n",
    "    self.bn2 = nn.BatchNorm2d(out_channels)\n",
    "    self.downsample = downsample\n",
    "    self.dropout = nn.Dropout(p=0.1)\n",
    "\n",
    "  def forward(self, ipt):\n",
    "    residual = ipt\n",
    "    out = self.conv1(ipt)\n",
    "    out = self.bn1(out)\n",
    "    out = self.act(out)\n",
    "    out = self.dropout(out)\n",
    "        \n",
    "    out = self.conv2(out)\n",
    "    out = self.bn2(out)\n",
    "    if self.downsample is not None:\n",
    "      residual = self.downsample(ipt)\n",
    "    out += residual\n",
    "    out = self.act(out)\n",
    "    out = self.dropout(out)\n",
    "    return out\n",
    "\n",
    "\n",
    "class Net(nn.Module):\n",
    "  \n",
    "  def __init__(self):\n",
    "    super().__init__()\n",
    "    # Before implement resnet block\n",
    "    self.conv1 = nn.Conv2d(3, 64, kernel_size=3, stride=1, padding=1, bias=False)\n",
    "    self.bn1 = nn.BatchNorm2d(64)\n",
    "    self.act = nn.ELU(inplace=True)\n",
    "    \n",
    "    # ResNet layers\n",
    "    downsample = None\n",
    "    # Perform 34-layer resnet, using number of resblock in each layer is [3,4,6,3]\n",
    "    # number of output channels in year layer should follow 64,128,256,512\n",
    "    # List of each type of resnet can be found in https://datagen.tech/guides/computer-vision/resnet-50/#:~:text=ResNet%2D50%20is%20a%2050,networks%20by%20stacking%20residual%20blocks.\n",
    "    self.layer1 = nn.Sequential(resnet_block(64, 64, stride=1, downsample=downsample),*[resnet_block(64, 64) for _ in range(1, 3)])\n",
    "    downsample = nn.Sequential(nn.Conv2d(64, 128, kernel_size=1, stride=2, bias=False),nn.BatchNorm2d(128))\n",
    "    self.layer2 = nn.Sequential(resnet_block(64, 128, stride=2, downsample=downsample),*[resnet_block(128, 128) for _ in range(1, 4)])\n",
    "    downsample = nn.Sequential(nn.Conv2d(128, 256, kernel_size=1, stride=2, bias=False),nn.BatchNorm2d(256))\n",
    "    self.layer3 = nn.Sequential(resnet_block(128, 256, stride=2, downsample=downsample),*[resnet_block(256, 256) for _ in range(1, 6)])\n",
    "    downsample = nn.Sequential(nn.Conv2d(256, 512, kernel_size=1, stride=2, bias=False),nn.BatchNorm2d(512))\n",
    "    self.layer4 = nn.Sequential(resnet_block(256, 512, stride=2, downsample=downsample),*[resnet_block(512, 512) for _ in range(1, 3)])\n",
    "    self.avgpool = nn.AdaptiveAvgPool2d((1, 1)) # Global Average Pooling, typically use (1,1)\n",
    "    \n",
    "    self.fc = nn.Linear(512, 10)\n",
    "    self.dropout = nn.Dropout(p=0.1)\n",
    "  \n",
    "  \n",
    "  def forward(self, images, labels):\n",
    "    loss = None\n",
    "    y = self.conv1(images)\n",
    "    y = self.bn1(y)\n",
    "    y = self.act(y)\n",
    "    y = self.dropout(y)\n",
    "    y = self.layer1(y)\n",
    "    y = self.layer2(y)\n",
    "    y = self.layer3(y)\n",
    "    y = self.layer4(y)\n",
    "    y = self.avgpool(y)\n",
    "    y = y.view(y.size(0), -1)\n",
    "    y = self.fc(y)\n",
    "    loss = F.cross_entropy(y, labels)\n",
    "    return loss\n",
    "  \n",
    "  \n",
    "  def predict(self, images):\n",
    "    labels_pred = None\n",
    "    outp = self.conv1(images)\n",
    "    outp = self.bn1(outp)\n",
    "    outp = self.act(outp)\n",
    "    outp = self.dropout(outp)\n",
    "    outp = self.layer1(outp)\n",
    "    outp = self.layer2(outp)\n",
    "    outp = self.layer3(outp)\n",
    "    outp = self.layer4(outp)\n",
    "    outp = self.avgpool(outp)\n",
    "    outp = outp.view(outp.size(0), -1)\n",
    "    outp = self.fc(outp)\n",
    "    _, labels_pred = torch.max(outp, 1)\n",
    "    # END OF YOUR CODE\n",
    "    return labels_pred"
   ]
  },
  {
   "cell_type": "markdown",
   "metadata": {},
   "source": [
    "**Evaluation**"
   ]
  },
  {
   "cell_type": "code",
   "execution_count": 5,
   "metadata": {},
   "outputs": [],
   "source": [
    "def eval_acc(model, data_loader):\n",
    "  \n",
    "  with torch.no_grad():\n",
    "    model.eval()\n",
    "    \n",
    "    total = 0\n",
    "    correct = 0\n",
    "    \n",
    "    for (images, labels) in data_loader:\n",
    "      images = images.cuda()\n",
    "      labels = labels.cuda()\n",
    "      \n",
    "      labels_pred = model.predict(images)\n",
    "      \n",
    "      total += labels.shape[0]\n",
    "      correct += (labels_pred == labels).sum().item()\n",
    "    \n",
    "    acc = 100 * correct / total\n",
    "  \n",
    "  return acc"
   ]
  },
  {
   "cell_type": "markdown",
   "metadata": {},
   "source": [
    "**Training**"
   ]
  },
  {
   "cell_type": "code",
   "execution_count": 6,
   "metadata": {},
   "outputs": [
    {
     "name": "stdout",
     "output_type": "stream",
     "text": [
      "Files already downloaded and verified\n",
      "Files already downloaded and verified\n",
      "Train Epoch:   0 \t Loss: 2.357387 \t Val Acc: 10.820000\n",
      "Train Epoch:   1 \t Loss: 1.282456 \t Val Acc: 57.290000\n",
      "Train Epoch:   2 \t Loss: 1.129779 \t Val Acc: 65.310000\n",
      "Train Epoch:   3 \t Loss: 0.896304 \t Val Acc: 70.440000\n",
      "Train Epoch:   4 \t Loss: 0.690156 \t Val Acc: 75.390000\n",
      "Train Epoch:   5 \t Loss: 0.620792 \t Val Acc: 75.410000\n",
      "Train Epoch:   6 \t Loss: 0.440290 \t Val Acc: 78.330000\n",
      "Train Epoch:   7 \t Loss: 0.535518 \t Val Acc: 79.360000\n",
      "Train Epoch:   8 \t Loss: 0.258452 \t Val Acc: 79.810000\n",
      "Train Epoch:   9 \t Loss: 0.413869 \t Val Acc: 81.110000\n",
      "Train Epoch:  10 \t Loss: 0.312262 \t Val Acc: 81.240000\n",
      "Train Epoch:  11 \t Loss: 0.362607 \t Val Acc: 82.250000\n",
      "Train Epoch:  12 \t Loss: 0.382700 \t Val Acc: 82.270000\n",
      "Train Epoch:  13 \t Loss: 0.311038 \t Val Acc: 83.340000\n",
      "Train Epoch:  14 \t Loss: 0.216858 \t Val Acc: 83.730000\n",
      "Train Epoch:  15 \t Loss: 0.283425 \t Val Acc: 84.290000\n",
      "Train Epoch:  16 \t Loss: 0.221569 \t Val Acc: 84.240000\n",
      "Train Epoch:  17 \t Loss: 0.192640 \t Val Acc: 84.770000\n",
      "Train Epoch:  18 \t Loss: 0.222225 \t Val Acc: 84.550000\n",
      "Train Epoch:  19 \t Loss: 0.334843 \t Val Acc: 85.080000\n"
     ]
    },
    {
     "data": {
      "image/png": "[encoded data removed]",
      "text/plain": [
       "<Figure size 720x576 with 1 Axes>"
      ]
     },
     "metadata": {
      "needs_background": "light"
     },
     "output_type": "display_data"
    }
   ],
   "source": [
    "train_loader, val_loader, test_loader = get_data_loaders()\n",
    "\n",
    "torch.manual_seed(0)\n",
    "model = Net()\n",
    "model = model.cuda()\n",
    "\n",
    "num_epochs = 20\n",
    "optimizer = optim.Adam(model.parameters(), lr=0.0001)  # TODO: choose an optimizer\n",
    "\n",
    "loss_history = []\n",
    "for epoch in range(num_epochs):\n",
    "  val_acc = eval_acc(model, val_loader)\n",
    "  \n",
    "  model.train()\n",
    "  \n",
    "  for batch, (images, labels) in enumerate(train_loader):\n",
    "    images = images.cuda()\n",
    "    labels = labels.cuda()\n",
    "    \n",
    "    optimizer.zero_grad()\n",
    "    loss = model(images, labels)\n",
    "    loss.backward()\n",
    "    optimizer.step()\n",
    "    \n",
    "    with torch.no_grad():\n",
    "      loss_history.append(loss.item())\n",
    "      if batch == 0:\n",
    "        print('Train Epoch: {:3} \\t Loss: {:F} \\t Val Acc: {:F}'.format(\n",
    "          epoch, loss.item(), val_acc))\n",
    "\n",
    "with torch.no_grad():\n",
    "  plt.plot(loss_history, 'o')\n",
    "  plt.xlabel('Iteration number')\n",
    "  plt.ylabel('Loss value')\n",
    "  plt.show()"
   ]
  },
  {
   "cell_type": "markdown",
   "metadata": {},
   "source": [
    "**result in 20 iteration**"
   ]
  },
  {
   "cell_type": "code",
   "execution_count": 7,
   "metadata": {},
   "outputs": [
    {
     "name": "stdout",
     "output_type": "stream",
     "text": [
      "Training Accuracy: 96.7525\n",
      "Validation Accuracy: 84.96\n",
      "Test Accuracy: 85.03\n"
     ]
    }
   ],
   "source": [
    "train_acc = eval_acc(model, train_loader)\n",
    "print('Training Accuracy:', train_acc)\n",
    "val_acc = eval_acc(model, val_loader)\n",
    "print('Validation Accuracy:', val_acc)\n",
    "test_acc = eval_acc(model, test_loader)\n",
    "print('Test Accuracy:', test_acc)"
   ]
  }
 ],
 "metadata": {
  "kernelspec": {
   "display_name": "Python 3",
   "language": "python",
   "name": "python3"
  },
  "language_info": {
   "codemirror_mode": {
    "name": "ipython",
    "version": 3
   },
   "file_extension": ".py",
   "mimetype": "text/x-python",
   "name": "python",
   "nbconvert_exporter": "python",
   "pygments_lexer": "ipython3",
   "version": "3.8.10"
  }
 },
 "nbformat": 4,
 "nbformat_minor": 4
}
